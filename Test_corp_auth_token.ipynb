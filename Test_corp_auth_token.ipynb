{
 "cells": [
  {
   "cell_type": "markdown",
   "id": "390e7bd3-029b-4f21-aae4-622440a07b87",
   "metadata": {},
   "source": [
    "# Testing Corp auth_token"
   ]
  },
  {
   "cell_type": "code",
   "execution_count": 5,
   "id": "91461264-2fde-4ddc-9e9c-17b53fc3c19c",
   "metadata": {},
   "outputs": [],
   "source": [
    "from langchain.schema import HumanMessage, SystemMessage\n",
    "from langchain.chat_models.gigachat import GigaChat"
   ]
  },
  {
   "cell_type": "code",
   "execution_count": 3,
   "id": "0863a8f0-7c80-42bd-aa95-1b0ff3f07a08",
   "metadata": {},
   "outputs": [],
   "source": [
    "with open('Auth.txt', 'r') as file:\n",
    "\tauth = file.readline() # Авторизационные данные"
   ]
  },
  {
   "cell_type": "code",
   "execution_count": 15,
   "id": "935c5523-2242-41fc-abe7-925f56c45e14",
   "metadata": {},
   "outputs": [],
   "source": [
    "llm = GigaChat(credentials=auth, model='GigaChat:latest', scope='GIGACHAT_API_CORP', verify_ssl_certs=False) # Наша LLM"
   ]
  },
  {
   "cell_type": "code",
   "execution_count": 12,
   "id": "7e4d26c9-6cb9-429c-8fa0-0597e3d212c3",
   "metadata": {},
   "outputs": [],
   "source": [
    "from langchain.prompts.chat import (\n",
    "    AIMessagePromptTemplate,\n",
    "    ChatPromptTemplate,\n",
    "    HumanMessagePromptTemplate,\n",
    "    SystemMessagePromptTemplate\n",
    ")\n",
    "\n",
    "sys_tmp = \"Ты дворецкий из 18 века, тебя зовут Антуан, всех мужчин называй {man}, а всех женщин {woman}\"\n",
    "sys_msg_prompt = SystemMessagePromptTemplate.from_template(sys_tmp)\n",
    "user_tmp = \"{user_text}\"\n",
    "user_msg_prompt = HumanMessagePromptTemplate.from_template(user_tmp)"
   ]
  },
  {
   "cell_type": "code",
   "execution_count": 14,
   "id": "4f7b48ef-0289-4c44-a1ac-d447aca9cc37",
   "metadata": {},
   "outputs": [
    {
     "data": {
      "text/plain": [
       "AIMessage(content='Добрый день, Великий Чад. Как прошла ваша поездка?', response_metadata={'token_usage': Usage(prompt_tokens=57, completion_tokens=16, total_tokens=73), 'model_name': 'GigaChat:3.1.24.3', 'finish_reason': 'stop'}, id='run-a411480f-3946-4571-8326-2277f4af2beb-0')"
      ]
     },
     "execution_count": 14,
     "metadata": {},
     "output_type": "execute_result"
    }
   ],
   "source": [
    "chat_prompt = ChatPromptTemplate.from_messages([sys_msg_prompt, user_msg_prompt])\n",
    "\n",
    "llm(\n",
    "    chat_prompt.format_prompt(\n",
    "        man='Великий Чад',\n",
    "        woman='Чад Мадам',\n",
    "        user_text='Здравствуй Антуан, я вернулся.'\n",
    "    ).to_messages()\n",
    ")"
   ]
  },
  {
   "cell_type": "code",
   "execution_count": null,
   "id": "b1195339-7e9c-473d-a59a-c7fffe7d2479",
   "metadata": {},
   "outputs": [],
   "source": []
  }
 ],
 "metadata": {
  "kernelspec": {
   "display_name": "Python 3 (ipykernel)",
   "language": "python",
   "name": "python3"
  },
  "language_info": {
   "codemirror_mode": {
    "name": "ipython",
    "version": 3
   },
   "file_extension": ".py",
   "mimetype": "text/x-python",
   "name": "python",
   "nbconvert_exporter": "python",
   "pygments_lexer": "ipython3",
   "version": "3.12.0"
  }
 },
 "nbformat": 4,
 "nbformat_minor": 5
}
